{
 "cells": [
  {
   "cell_type": "code",
   "execution_count": 3,
   "id": "63ca3719-5827-4145-b704-2f6a1caa36c4",
   "metadata": {},
   "outputs": [],
   "source": [
    "\n",
    "from plotly.subplots import make_subplots\n",
    "from urllib.request import urlopen\n",
    "import plotly.graph_objects as go\n",
    "import plotly.express as px\n",
    "import plotly.io as pio\n",
    "import pandas as pd\n",
    "import numpy as np\n",
    "import pandas as pd\n",
    "import statsmodels.formula.api as smf\n",
    "import matplotlib.pyplot as plt\n",
    "import seaborn as sns\n",
    "import plotly.graph_objects as go\n",
    "from urllib.request import urlopen\n",
    "import json\n",
    "from copy import deepcopy\n",
    "import geojson\n",
    "import pycountry"
   ]
  },
  {
   "cell_type": "code",
   "execution_count": 5,
   "id": "5fe0a4a5-317f-48ec-a264-9d13bda12c0a",
   "metadata": {},
   "outputs": [],
   "source": [
    "def load_dataframe(path, rows_to_skip):\n",
    "    df = pd.read_csv(path, skiprows=rows_to_skip)\n",
    "    return df\n",
    "\n",
    "def load_jsonfile(path):\n",
    "    with open(path) as response:\n",
    "        regions = json.load(response)\n",
    "    return regions"
   ]
  },
  {
   "cell_type": "code",
   "execution_count": 7,
   "id": "48f8031b-86fb-49be-ad88-55e5e150e904",
   "metadata": {},
   "outputs": [],
   "source": [
    "#Elena's data\n",
    "df_imm_raw = load_dataframe(path=\"/home/ansam/Documents/github/Measles-Group-Project/measles/data/children_imm_rates_worldbank.csv\", rows_to_skip=0)\n",
    "df_imm = deepcopy(df_imm_raw)\n",
    "#df_imm = pd.read_csv('../data/children_imm_rates_worldbank.csv', na_filter=False)\n",
    "df_imm_all_raw = load_dataframe(path=\"/home/ansam/Documents/github/Measles-Group-Project/measles/data/Measles vaccination coverage.csv\", rows_to_skip=0)\n",
    "df_imm_all = deepcopy(df_imm_all_raw)\n",
    "df_incidence_raw = load_dataframe(path=\"/home/ansam/Documents/github/Measles-Group-Project/measles/data/Measles reported cases and incidence by year.csv\", rows_to_skip=0)\n",
    "df_incidence = deepcopy(df_incidence_raw)"
   ]
  },
  {
   "cell_type": "code",
   "execution_count": 8,
   "id": "3f59a6b3-df11-4ba4-bf9c-b13b73a7d1d1",
   "metadata": {},
   "outputs": [
    {
     "data": {
      "text/html": [
       "<div>\n",
       "<style scoped>\n",
       "    .dataframe tbody tr th:only-of-type {\n",
       "        vertical-align: middle;\n",
       "    }\n",
       "\n",
       "    .dataframe tbody tr th {\n",
       "        vertical-align: top;\n",
       "    }\n",
       "\n",
       "    .dataframe thead th {\n",
       "        text-align: right;\n",
       "    }\n",
       "</style>\n",
       "<table border=\"1\" class=\"dataframe\">\n",
       "  <thead>\n",
       "    <tr style=\"text-align: right;\">\n",
       "      <th></th>\n",
       "      <th>Year</th>\n",
       "      <th>2020</th>\n",
       "      <th>2019</th>\n",
       "      <th>2018</th>\n",
       "      <th>2017</th>\n",
       "      <th>2016</th>\n",
       "      <th>2015</th>\n",
       "      <th>2014</th>\n",
       "      <th>2013</th>\n",
       "      <th>2012</th>\n",
       "      <th>...</th>\n",
       "      <th>2009</th>\n",
       "      <th>2008</th>\n",
       "      <th>2007</th>\n",
       "      <th>2006</th>\n",
       "      <th>2005</th>\n",
       "      <th>2004</th>\n",
       "      <th>2003</th>\n",
       "      <th>2002</th>\n",
       "      <th>2001</th>\n",
       "      <th>2000</th>\n",
       "    </tr>\n",
       "  </thead>\n",
       "  <tbody>\n",
       "    <tr>\n",
       "      <th>0</th>\n",
       "      <td>Measles</td>\n",
       "      <td>149962</td>\n",
       "      <td>873022</td>\n",
       "      <td>360296</td>\n",
       "      <td>173457</td>\n",
       "      <td>132490</td>\n",
       "      <td>214808</td>\n",
       "      <td>282078</td>\n",
       "      <td>275307</td>\n",
       "      <td>212376</td>\n",
       "      <td>...</td>\n",
       "      <td>278637</td>\n",
       "      <td>278751</td>\n",
       "      <td>285031</td>\n",
       "      <td>377576</td>\n",
       "      <td>585701</td>\n",
       "      <td>513406</td>\n",
       "      <td>679856</td>\n",
       "      <td>586471</td>\n",
       "      <td>849173</td>\n",
       "      <td>853479</td>\n",
       "    </tr>\n",
       "  </tbody>\n",
       "</table>\n",
       "<p>1 rows × 22 columns</p>\n",
       "</div>"
      ],
      "text/plain": [
       "      Year    2020    2019    2018    2017    2016    2015    2014    2013  \\\n",
       "0  Measles  149962  873022  360296  173457  132490  214808  282078  275307   \n",
       "\n",
       "     2012  ...    2009    2008    2007    2006    2005    2004    2003  \\\n",
       "0  212376  ...  278637  278751  285031  377576  585701  513406  679856   \n",
       "\n",
       "     2002    2001    2000  \n",
       "0  586471  849173  853479  \n",
       "\n",
       "[1 rows x 22 columns]"
      ]
     },
     "execution_count": 8,
     "metadata": {},
     "output_type": "execute_result"
    }
   ],
   "source": [
    "df_incidence"
   ]
  }
 ],
 "metadata": {
  "kernelspec": {
   "display_name": "Python 3 (ipykernel)",
   "language": "python",
   "name": "python3"
  },
  "language_info": {
   "codemirror_mode": {
    "name": "ipython",
    "version": 3
   },
   "file_extension": ".py",
   "mimetype": "text/x-python",
   "name": "python",
   "nbconvert_exporter": "python",
   "pygments_lexer": "ipython3",
   "version": "3.9.7"
  }
 },
 "nbformat": 4,
 "nbformat_minor": 5
}
